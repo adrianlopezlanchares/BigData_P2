{
  "nbformat": 4,
  "nbformat_minor": 0,
  "metadata": {
    "colab": {
      "provenance": []
    },
    "kernelspec": {
      "name": "python3",
      "display_name": "Python 3"
    },
    "language_info": {
      "name": "python"
    }
  },
  "cells": [
    {
      "cell_type": "code",
      "execution_count": 1,
      "metadata": {
        "colab": {
          "base_uri": "https://localhost:8080/"
        },
        "id": "nK0nQwvNHh0t",
        "outputId": "05588a9c-3089-4a37-de74-0dbf37cfe213"
      },
      "outputs": [
        {
          "output_type": "stream",
          "name": "stdout",
          "text": [
            "\u001b[33m\r0% [Working]\u001b[0m\r            \rHit:1 https://cloud.r-project.org/bin/linux/ubuntu jammy-cran40/ InRelease\n",
            "Hit:2 https://developer.download.nvidia.com/compute/cuda/repos/ubuntu2204/x86_64  InRelease\n",
            "Get:3 http://security.ubuntu.com/ubuntu jammy-security InRelease [110 kB]\n",
            "Hit:4 http://archive.ubuntu.com/ubuntu jammy InRelease\n",
            "Get:5 http://archive.ubuntu.com/ubuntu jammy-updates InRelease [119 kB]\n",
            "Hit:6 http://archive.ubuntu.com/ubuntu jammy-backports InRelease\n",
            "Hit:7 https://ppa.launchpadcontent.net/c2d4u.team/c2d4u4.0+/ubuntu jammy InRelease\n",
            "Hit:8 https://ppa.launchpadcontent.net/deadsnakes/ppa/ubuntu jammy InRelease\n",
            "Hit:9 https://ppa.launchpadcontent.net/graphics-drivers/ppa/ubuntu jammy InRelease\n",
            "Hit:10 https://ppa.launchpadcontent.net/ubuntugis/ppa/ubuntu jammy InRelease\n",
            "Fetched 229 kB in 1s (159 kB/s)\n",
            "Reading package lists... Done\n",
            "Building dependency tree... Done\n",
            "Reading state information... Done\n",
            "45 packages can be upgraded. Run 'apt list --upgradable' to see them.\n",
            "tar: spark-3.2.1-bin-hadoop3.2.tgz: Cannot open: No such file or directory\n",
            "tar: Error is not recoverable: exiting now\n",
            "Requirement already satisfied: pyspark in /usr/local/lib/python3.10/dist-packages (3.5.1)\n",
            "Requirement already satisfied: py4j==0.10.9.7 in /usr/local/lib/python3.10/dist-packages (from pyspark) (0.10.9.7)\n",
            "Requirement already satisfied: py4j in /usr/local/lib/python3.10/dist-packages (0.10.9.7)\n"
          ]
        }
      ],
      "source": [
        "!sudo apt update\n",
        "!apt-get install openjdk-8-jdk-headless -qq > /dev/null\n",
        "#Check this site for the latest download link https://www.apache.org/dyn/closer.lua/spark/spark-3.2.1/spark-3.2.1-bin-hadoop3.2.tgz\n",
        "!wget -q https://dlcdn.apache.org/spark/spark-3.2.1/spark-3.2.1-bin-hadoop3.2.tgz\n",
        "!tar xf spark-3.2.1-bin-hadoop3.2.tgz\n",
        "!pip install -q findspark\n",
        "!pip install pyspark\n",
        "!pip install py4j\n",
        "\n",
        "import os\n",
        "import sys\n",
        "# os.environ[\"JAVA_HOME\"] = \"/usr/lib/jvm/java-8-openjdk-amd64\"\n",
        "# os.environ[\"SPARK_HOME\"] = \"/content/spark-3.2.1-bin-hadoop3.2\"\n",
        "\n",
        "\n",
        "import findspark\n",
        "findspark.init()\n",
        "findspark.find()\n",
        "\n",
        "import pyspark"
      ]
    },
    {
      "cell_type": "code",
      "source": [
        "import pyspark\n",
        "import pyspark.sql.functions as F\n",
        "import numpy as np\n",
        "from pyspark.sql import SparkSession\n",
        "import numpy as np\n",
        "from datetime import datetime, timedelta\n",
        "from pyspark.sql.window import Window\n",
        "import numpy as np\n",
        "import math\n",
        "import pandas as pd\n",
        "import subprocess\n",
        "from google.colab import drive\n",
        "import plotly.express as px\n",
        "import numpy as np\n",
        "import pandas as pd\n",
        "from sklearn.datasets import load_iris\n",
        "from pyspark.sql import SparkSession\n",
        "from pyspark.ml.feature import VectorAssembler\n",
        "from pyspark.ml.regression import LinearRegression\n",
        "from pyspark.ml.evaluation import RegressionEvaluator\n",
        "import pandas as pd"
      ],
      "metadata": {
        "id": "Ex9BHH0eHlss"
      },
      "execution_count": 2,
      "outputs": []
    },
    {
      "cell_type": "code",
      "source": [
        "################################\n",
        "appName = 'ggalego_cl5_<sparksql'\n",
        "spark = SparkSession.builder\\\n",
        "                    .appName(appName) \\\n",
        "                    .getOrCreate()\n",
        "sc = spark.sparkContext"
      ],
      "metadata": {
        "id": "cjNOOHg4HoeQ"
      },
      "execution_count": 3,
      "outputs": []
    },
    {
      "cell_type": "code",
      "source": [
        "spark"
      ],
      "metadata": {
        "colab": {
          "base_uri": "https://localhost:8080/",
          "height": 219
        },
        "id": "PtyVGV_AHqUm",
        "outputId": "5f62c255-8e79-4e8f-f38d-c8944e81dcdc"
      },
      "execution_count": 4,
      "outputs": [
        {
          "output_type": "execute_result",
          "data": {
            "text/plain": [
              "<pyspark.sql.session.SparkSession at 0x7ca819ced8d0>"
            ],
            "text/html": [
              "\n",
              "            <div>\n",
              "                <p><b>SparkSession - in-memory</b></p>\n",
              "                \n",
              "        <div>\n",
              "            <p><b>SparkContext</b></p>\n",
              "\n",
              "            <p><a href=\"http://b438044c3e6e:4040\">Spark UI</a></p>\n",
              "\n",
              "            <dl>\n",
              "              <dt>Version</dt>\n",
              "                <dd><code>v3.5.1</code></dd>\n",
              "              <dt>Master</dt>\n",
              "                <dd><code>local[*]</code></dd>\n",
              "              <dt>AppName</dt>\n",
              "                <dd><code>ggalego_cl5_<sparksql</code></dd>\n",
              "            </dl>\n",
              "        </div>\n",
              "        \n",
              "            </div>\n",
              "        "
            ]
          },
          "metadata": {},
          "execution_count": 4
        }
      ]
    },
    {
      "cell_type": "code",
      "source": [
        "from pyspark.sql.types import ArrayType, StringType, IntegerType, FloatType\n",
        "from pyspark.ml.functions import array_to_vector\n"
      ],
      "metadata": {
        "id": "1ZccjppNHttp"
      },
      "execution_count": 5,
      "outputs": []
    },
    {
      "cell_type": "code",
      "source": [
        "from pyspark.ml.feature import VectorAssembler\n",
        "from pyspark.ml.regression import LinearRegression\n",
        "from pyspark.ml.evaluation import RegressionEvaluator\n",
        "from pyspark.sql import SparkSession\n",
        "from pyspark.sql.functions import col\n",
        "\n",
        "# Initialize a Spark session\n",
        "spark = SparkSession.builder.appName(\"example\").getOrCreate()\n",
        "\n",
        "# Read the DataFrame from the CSV\n",
        "path = \"datos_yum.csv\"  # replace with the correct path to your CSV\n",
        "df = spark.read.csv(path, header=True, inferSchema=True)\n",
        "\n",
        "# Rename the columns to remove the '_u1' suffix\n",
        "for column in df.columns:\n",
        "    df = df.withColumnRenamed(column, column.replace(\"_u1.\", \"\"))\n",
        "\n",
        "# Show the DataFrame to verify the column names\n",
        "df.show()\n",
        "\n",
        "# Now you can create or replace the temp view with the new DataFrame\n",
        "df.createOrReplaceTempView(\"yum\")\n",
        "\n"
      ],
      "metadata": {
        "colab": {
          "base_uri": "https://localhost:8080/"
        },
        "id": "cMdPDyuTHyZx",
        "outputId": "df7b2b97-b22e-4ed0-fa33-64b2d13c9b32"
      },
      "execution_count": 6,
      "outputs": [
        {
          "output_type": "stream",
          "name": "stdout",
          "text": [
            "+----------+------+-------+------------------+------------------+------------------+------------------+------------------+-------+\n",
            "|      date|ticker|    cik|              open|              high|               low|             close|         adj_close| volume|\n",
            "+----------+------+-------+------------------+------------------+------------------+------------------+------------------+-------+\n",
            "|2021-01-04|   YUM|1041061| 109.0199966430664| 109.0199966430664|104.86000061035156|105.81999969482422| 99.72776794433594|2058200|\n",
            "|2021-01-05|   YUM|1041061|105.63999938964844| 106.3499984741211|105.19999694824219|105.83000183105469| 99.73719024658203|1475300|\n",
            "|2021-01-06|   YUM|1041061|105.62999725341797|106.69999694824219|105.38999938964844|106.41000366210938|100.28380584716797|1352700|\n",
            "|2021-01-07|   YUM|1041061|             106.5|106.98999786376953|105.27999877929688| 105.5999984741211| 99.52044677734375|2222900|\n",
            "|2021-01-08|   YUM|1041061|105.80999755859375|107.44999694824219|105.62000274658203| 107.1500015258789|100.98119354248047|1252200|\n",
            "|2021-01-11|   YUM|1041061|106.80000305175781|108.04000091552734|106.58999633789062|107.66999816894531|101.47126770019531|1329100|\n",
            "|2021-01-12|   YUM|1041061|107.48999786376953|108.44999694824219| 106.4800033569336|107.66999816894531|101.47126770019531|1182600|\n",
            "|2021-01-13|   YUM|1041061|107.12000274658203| 107.7300033569336|106.27999877929688| 107.1500015258789|100.98119354248047|1538800|\n",
            "|2021-01-14|   YUM|1041061|107.77999877929688|109.66000366210938|107.30999755859375|107.77999877929688|101.57492065429688|1497600|\n",
            "|2021-01-15|   YUM|1041061| 107.5199966430664| 107.5199966430664|             106.0|106.62000274658203| 100.4817123413086|1163500|\n",
            "|2021-01-19|   YUM|1041061|106.95999908447266|             108.0|            106.75|107.38999938964844| 101.2073745727539|1748400|\n",
            "|2021-01-20|   YUM|1041061| 107.6500015258789|109.62999725341797|107.41999816894531|109.41000366210938|103.11109161376953|1543700|\n",
            "|2021-01-21|   YUM|1041061|             109.5|             109.5|107.87000274658203|107.87999725341797|101.66918182373047|1199400|\n",
            "|2021-01-22|   YUM|1041061|107.36000061035156|107.61000061035156|106.06999969482422|107.08999633789062|100.92465209960938| 951400|\n",
            "|2021-01-25|   YUM|1041061|106.29000091552734|106.37999725341797|104.26000213623047|105.26000213623047| 99.20000457763672|1495200|\n",
            "|2021-01-26|   YUM|1041061| 105.6500015258789| 107.2300033569336|103.93000030517578|106.33999633789062|100.21782684326172|1834400|\n",
            "|2021-01-27|   YUM|1041061|105.54000091552734|105.66000366210938|101.79000091552734| 102.0199966430664| 96.14653778076172|1914700|\n",
            "|2021-01-28|   YUM|1041061|            102.25|104.19999694824219|102.08000183105469|102.52999877929688| 96.62718200683594|1827300|\n",
            "|2021-01-29|   YUM|1041061|102.08999633789062|103.23999786376953|101.18000030517578|101.48999786376953| 95.64706420898438|1901300|\n",
            "|2021-02-01|   YUM|1041061|102.23999786376953|103.70999908447266|101.63999938964844|103.05999755859375| 97.12666320800781|1782200|\n",
            "+----------+------+-------+------------------+------------------+------------------+------------------+------------------+-------+\n",
            "only showing top 20 rows\n",
            "\n"
          ]
        }
      ]
    },
    {
      "cell_type": "code",
      "source": [
        "from pyspark.sql.functions import to_date\n",
        "# Convert the 'date' column to a proper date format if not already done\n",
        "df = df.withColumn('date', to_date(col('date'), 'yyyy-MM-dd'))\n",
        "\n",
        "# Filter data up to the end of 2023 for training\n",
        "train_data = df.filter(col('date') <= '2023-12-31')\n",
        "\n",
        "# Assuming the DataFrame includes data for at least the first 7 days of 2024\n",
        "# Filter data for the first 7 days of 2024 for testing\n",
        "test_data = df.filter((col('date') > '2023-12-31') & (col('date') <= '2024-01-10'))\n",
        "test_data.show()"
      ],
      "metadata": {
        "colab": {
          "base_uri": "https://localhost:8080/"
        },
        "id": "gRz71bxqWuZu",
        "outputId": "11704552-f1fc-42b4-adb0-bb65f02fe793"
      },
      "execution_count": 7,
      "outputs": [
        {
          "output_type": "stream",
          "name": "stdout",
          "text": [
            "+----------+------+-------+------------------+------------------+------------------+------------------+------------------+-------+\n",
            "|      date|ticker|    cik|              open|              high|               low|             close|         adj_close| volume|\n",
            "+----------+------+-------+------------------+------------------+------------------+------------------+------------------+-------+\n",
            "|2024-01-02|   YUM|1041061|129.72999572753906| 130.6999969482422| 128.9499969482422|129.02999877929688|128.38748168945312|1485300|\n",
            "|2024-01-03|   YUM|1041061|130.05999755859375| 130.5399932861328|128.94000244140625|129.10000610351562| 128.4571533203125|1483600|\n",
            "|2024-01-04|   YUM|1041061|128.39999389648438| 129.6199951171875|127.79000091552734|128.69000244140625|128.04917907714844|3019000|\n",
            "|2024-01-05|   YUM|1041061|128.85000610351562|129.10000610351562|127.44000244140625|128.33999633789062|127.70092010498047|1408800|\n",
            "|2024-01-08|   YUM|1041061| 128.2100067138672|128.77999877929688|127.18000030517578|128.63999938964844|127.99942779541016|1204100|\n",
            "|2024-01-09|   YUM|1041061|127.86000061035156| 128.3000030517578|127.26000213623047|128.22000122070312| 127.5815200805664| 968400|\n",
            "|2024-01-10|   YUM|1041061|             128.0|129.57000732421875|             127.0| 129.1999969482422|     128.556640625|1208700|\n",
            "+----------+------+-------+------------------+------------------+------------------+------------------+------------------+-------+\n",
            "\n"
          ]
        }
      ]
    },
    {
      "cell_type": "code",
      "source": [
        "df_spark = df.select('date', 'open', 'high', 'low', 'close', 'adj_close', 'volume')"
      ],
      "metadata": {
        "id": "tKbCMbxNOH-g"
      },
      "execution_count": 8,
      "outputs": []
    },
    {
      "cell_type": "code",
      "source": [
        "# Assemble features\n",
        "feature_columns = ['open', 'high', 'low', 'volume']\n",
        "feature_assembler = VectorAssembler(inputCols=feature_columns, outputCol=\"features\")\n",
        "train_data = feature_assembler.transform(train_data).select(\"features\", \"close\")\n",
        "test_data = feature_assembler.transform(test_data).select(\"features\", \"close\")\n"
      ],
      "metadata": {
        "id": "RJUHo3bNMpCJ"
      },
      "execution_count": 9,
      "outputs": []
    },
    {
      "cell_type": "code",
      "source": [
        "# Fit the linear regression model\n",
        "lr = LinearRegression(featuresCol='features', labelCol='close')\n",
        "lr_model = lr.fit(train_data)"
      ],
      "metadata": {
        "id": "jQ4Oyn9PMtDh"
      },
      "execution_count": 10,
      "outputs": []
    },
    {
      "cell_type": "code",
      "source": [
        "# Make predictions\n",
        "predictions = lr_model.transform(test_data)\n",
        "predictions.show()\n"
      ],
      "metadata": {
        "colab": {
          "base_uri": "https://localhost:8080/"
        },
        "id": "s8-LKqXDMvJT",
        "outputId": "c12a246f-3fd9-42e1-e5b7-7941b3715b0f"
      },
      "execution_count": 11,
      "outputs": [
        {
          "output_type": "stream",
          "name": "stdout",
          "text": [
            "+--------------------+------------------+------------------+\n",
            "|            features|             close|        prediction|\n",
            "+--------------------+------------------+------------------+\n",
            "|[129.729995727539...|129.02999877929688|129.85397818264357|\n",
            "|[130.059997558593...|129.10000610351562|129.53081758820096|\n",
            "|[128.399993896484...|128.69000244140625|128.88898134836722|\n",
            "|[128.850006103515...|128.33999633789062|127.91144018207696|\n",
            "|[128.210006713867...|128.63999938964844|127.81893640976774|\n",
            "|[127.860000610351...|128.22000122070312|127.70220194741778|\n",
            "|[128.0,129.570007...| 129.1999969482422|128.41680120926858|\n",
            "+--------------------+------------------+------------------+\n",
            "\n"
          ]
        }
      ]
    },
    {
      "cell_type": "code",
      "source": [
        "# Evaluate the model\n",
        "evaluator = RegressionEvaluator(labelCol=\"close\", predictionCol=\"prediction\", metricName=\"rmse\")\n",
        "rmse = evaluator.evaluate(predictions)\n",
        "mae = evaluator.evaluate(predictions, {evaluator.metricName: \"mae\"})\n",
        "r2 = evaluator.evaluate(predictions, {evaluator.metricName: \"r2\"})\n",
        "\n",
        "# Print evaluation metrics\n",
        "print(f\"Root Mean Squared Error (RMSE): {rmse}\")\n",
        "print(f\"Mean Absolute Error (MAE): {mae}\")\n",
        "print(f\"Coefficient of Determination (R^2): {r2}\")"
      ],
      "metadata": {
        "colab": {
          "base_uri": "https://localhost:8080/"
        },
        "id": "vnJmeNgMMxJs",
        "outputId": "25cef353-36d7-4f5a-9509-4317652e0b6a"
      },
      "execution_count": 12,
      "outputs": [
        {
          "output_type": "stream",
          "name": "stdout",
          "text": [
            "Root Mean Squared Error (RMSE): 0.6145206780746556\n",
            "Mean Absolute Error (MAE): 0.5720548489923313\n",
            "Coefficient of Determination (R^2): -2.045540717912375\n"
          ]
        }
      ]
    },
    {
      "cell_type": "code",
      "source": [
        "from pyspark.sql.functions import to_date\n",
        "from pyspark.ml.feature import VectorAssembler, StandardScaler\n",
        "from pyspark.ml.regression import LinearRegression\n",
        "from pyspark.ml.evaluation import RegressionEvaluator\n",
        "\n",
        "# Convert the 'date' column to a proper date format\n",
        "df = df.withColumn('date', to_date(col('date'), 'yyyy-MM-dd'))\n",
        "\n",
        "# Filter data up to the end of 2023 for training\n",
        "train_data = df.filter(col('date') <= '2023-12-31')\n",
        "\n",
        "# Assuming the DataFrame includes data for at least the first 7 days of 2024\n",
        "# Filter data for the first 7 days of 2024 for testing\n",
        "test_data = df.filter((col('date') > '2023-12-31') & (col('date') <= '2024-01-10'))\n",
        "\n",
        "# Assemble features and prepare data for scaling\n",
        "feature_columns = ['open', 'high', 'low', 'volume']\n",
        "assembler = VectorAssembler(inputCols=feature_columns, outputCol=\"unscaled_features\")\n",
        "train_data = assembler.transform(train_data).select('date', 'unscaled_features', 'close')\n",
        "test_data = assembler.transform(test_data).select('date', 'unscaled_features', 'close')\n"
      ],
      "metadata": {
        "id": "SLDu5XUUaW-G"
      },
      "execution_count": 13,
      "outputs": []
    },
    {
      "cell_type": "code",
      "source": [
        "from pyspark.ml.feature import StandardScaler\n",
        "# Initialize the StandardScaler\n",
        "scaler = StandardScaler(inputCol=\"unscaled_features\", outputCol=\"features\", withStd=True, withMean=False)\n",
        "# Fit the scaler to the data and transform\n",
        "scaler_model = scaler.fit(train_data)\n",
        "\n",
        "\n"
      ],
      "metadata": {
        "id": "hfyWVZ90KSfn"
      },
      "execution_count": 14,
      "outputs": []
    },
    {
      "cell_type": "code",
      "source": [
        "# Scale the features for both training and testing data\n",
        "train_data = scaler_model.transform(train_data)\n",
        "test_data = scaler_model.transform(test_data)"
      ],
      "metadata": {
        "id": "xOrhqeAhad6A"
      },
      "execution_count": 15,
      "outputs": []
    },
    {
      "cell_type": "code",
      "source": [
        "# Fit the linear regression model on the scaled training data\n",
        "lr = LinearRegression(featuresCol='features', labelCol='close')\n",
        "lr_model = lr.fit(train_data.select('features', 'close'))"
      ],
      "metadata": {
        "id": "-GoZOtUZKmaT"
      },
      "execution_count": 16,
      "outputs": []
    },
    {
      "cell_type": "code",
      "source": [
        "# Make predictions on the scaled test data\n",
        "predictions = lr_model.transform(test_data)\n",
        "predictions.show()\n"
      ],
      "metadata": {
        "colab": {
          "base_uri": "https://localhost:8080/"
        },
        "id": "QSIb6HM-ahpf",
        "outputId": "53634a42-0317-44aa-eff3-1e953fd1cda4"
      },
      "execution_count": 17,
      "outputs": [
        {
          "output_type": "stream",
          "name": "stdout",
          "text": [
            "+----------+--------------------+------------------+--------------------+------------------+\n",
            "|      date|   unscaled_features|             close|            features|        prediction|\n",
            "+----------+--------------------+------------------+--------------------+------------------+\n",
            "|2024-01-02|[129.729995727539...|129.02999877929688|[6.94893657615945...|129.85397818264468|\n",
            "|2024-01-03|[130.059997558593...|129.10000610351562|[6.96661299541126...| 129.5308175882272|\n",
            "|2024-01-04|[128.399993896484...|128.69000244140625|[6.87769554729528...| 128.8889813483684|\n",
            "|2024-01-05|[128.850006103515...|128.33999633789062|[6.90180027548570...|127.91144018211601|\n",
            "|2024-01-08|[128.210006713867...|128.63999938964844|[6.86751895802703...|127.81893640978619|\n",
            "|2024-01-09|[127.860000610351...|128.22000122070312|[6.84877101773027...|127.70220194743315|\n",
            "|2024-01-10|[128.0,129.570007...| 129.1999969482422|[6.85627003038276...|128.41680120924568|\n",
            "+----------+--------------------+------------------+--------------------+------------------+\n",
            "\n"
          ]
        }
      ]
    },
    {
      "cell_type": "code",
      "source": [
        "# Evaluate the model\n",
        "evaluator = RegressionEvaluator(labelCol=\"close\", predictionCol=\"prediction\", metricName=\"rmse\")\n",
        "rmse = evaluator.evaluate(predictions)\n",
        "mae = evaluator.evaluate(predictions, {evaluator.metricName: \"mae\"})\n",
        "r2 = evaluator.evaluate(predictions, {evaluator.metricName: \"r2\"})\n",
        "\n",
        "# Print evaluation metrics\n",
        "print(f\"Root Mean Squared Error (RMSE): {rmse}\")\n",
        "print(f\"Mean Absolute Error (MAE): {mae}\")\n",
        "print(f\"Coefficient of Determination (R^2): {r2}\")"
      ],
      "metadata": {
        "colab": {
          "base_uri": "https://localhost:8080/"
        },
        "id": "Oxihnk8nanbw",
        "outputId": "e56a6074-1927-44ad-ff42-3be0f6e5bb8d"
      },
      "execution_count": 18,
      "outputs": [
        {
          "output_type": "stream",
          "name": "stdout",
          "text": [
            "Root Mean Squared Error (RMSE): 0.6145206780724578\n",
            "Mean Absolute Error (MAE): 0.5720548489892658\n",
            "Coefficient of Determination (R^2): -2.0455407178905904\n"
          ]
        }
      ]
    },
    {
      "cell_type": "code",
      "source": [
        "import matplotlib.pyplot as plt\n",
        "\n",
        "# Convert the predictions DataFrame to Pandas\n",
        "predictions_pd = predictions.select('date', 'prediction', 'close').toPandas()\n",
        "\n",
        "# Ensure the dates are sorted\n",
        "predictions_pd.sort_values('date', inplace=True)\n",
        "\n",
        "# Plotting\n",
        "plt.figure(figsize=(10, 5))\n",
        "plt.plot(predictions_pd['date'], predictions_pd['close'], label='Actual Close', marker='o')\n",
        "plt.plot(predictions_pd['date'], predictions_pd['prediction'], label='Predicted Close', marker='x')\n",
        "\n",
        "# Formatting the plot\n",
        "plt.title('Actual vs Predicted Close Prices')\n",
        "plt.xlabel('Date')\n",
        "plt.ylabel('Close Price')\n",
        "plt.xticks(rotation=45)\n",
        "plt.legend()\n",
        "plt.tight_layout()\n",
        "plt.ylim(127, 133)\n",
        "\n",
        "# Show plot\n",
        "plt.show()\n"
      ],
      "metadata": {
        "colab": {
          "base_uri": "https://localhost:8080/",
          "height": 507
        },
        "id": "A9SIVNOPoHdM",
        "outputId": "cd717dc4-ef93-4c16-a81f-d23ed19ab81b"
      },
      "execution_count": 25,
      "outputs": [
        {
          "output_type": "display_data",
          "data": {
            "text/plain": [
              "<Figure size 1000x500 with 1 Axes>"
            ],
            "image/png": "[encoded data removed]"
          },
          "metadata": {}
        }
      ]
    }
  ]
}